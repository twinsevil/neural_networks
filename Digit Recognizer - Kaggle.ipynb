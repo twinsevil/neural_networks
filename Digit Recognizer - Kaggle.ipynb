{
 "cells": [
  {
   "cell_type": "markdown",
   "metadata": {},
   "source": [
    "# Digit Recognizer\n",
    "## Learn computer vision fundamentals with the famous MNIST data"
   ]
  },
  {
   "cell_type": "code",
   "execution_count": null,
   "metadata": {},
   "outputs": [],
   "source": [
    "import numpy as np\n",
    "import pandas as pd\n",
    "import zipfile\n",
    "from keras.utils import np_utils"
   ]
  },
  {
   "cell_type": "code",
   "execution_count": 2,
   "metadata": {},
   "outputs": [],
   "source": [
    "zip_name = 'digit-recognizer.zip'\n",
    "zf = zipfile.ZipFile(zip_name) \n",
    "data_train = pd.read_csv(zf.open('train.csv', mode='r'))"
   ]
  },
  {
   "cell_type": "code",
   "execution_count": 85,
   "metadata": {},
   "outputs": [],
   "source": [
    "X_test = pd.read_csv(zf.open('test.csv', mode='r'))"
   ]
  },
  {
   "cell_type": "code",
   "execution_count": 86,
   "metadata": {},
   "outputs": [
    {
     "data": {
      "text/html": [
       "<div>\n",
       "<style scoped>\n",
       "    .dataframe tbody tr th:only-of-type {\n",
       "        vertical-align: middle;\n",
       "    }\n",
       "\n",
       "    .dataframe tbody tr th {\n",
       "        vertical-align: top;\n",
       "    }\n",
       "\n",
       "    .dataframe thead th {\n",
       "        text-align: right;\n",
       "    }\n",
       "</style>\n",
       "<table border=\"1\" class=\"dataframe\">\n",
       "  <thead>\n",
       "    <tr style=\"text-align: right;\">\n",
       "      <th></th>\n",
       "      <th>pixel0</th>\n",
       "      <th>pixel1</th>\n",
       "      <th>pixel2</th>\n",
       "      <th>pixel3</th>\n",
       "      <th>pixel4</th>\n",
       "      <th>pixel5</th>\n",
       "      <th>pixel6</th>\n",
       "      <th>pixel7</th>\n",
       "      <th>pixel8</th>\n",
       "      <th>pixel9</th>\n",
       "      <th>...</th>\n",
       "      <th>pixel774</th>\n",
       "      <th>pixel775</th>\n",
       "      <th>pixel776</th>\n",
       "      <th>pixel777</th>\n",
       "      <th>pixel778</th>\n",
       "      <th>pixel779</th>\n",
       "      <th>pixel780</th>\n",
       "      <th>pixel781</th>\n",
       "      <th>pixel782</th>\n",
       "      <th>pixel783</th>\n",
       "    </tr>\n",
       "  </thead>\n",
       "  <tbody>\n",
       "    <tr>\n",
       "      <th>0</th>\n",
       "      <td>0</td>\n",
       "      <td>0</td>\n",
       "      <td>0</td>\n",
       "      <td>0</td>\n",
       "      <td>0</td>\n",
       "      <td>0</td>\n",
       "      <td>0</td>\n",
       "      <td>0</td>\n",
       "      <td>0</td>\n",
       "      <td>0</td>\n",
       "      <td>...</td>\n",
       "      <td>0</td>\n",
       "      <td>0</td>\n",
       "      <td>0</td>\n",
       "      <td>0</td>\n",
       "      <td>0</td>\n",
       "      <td>0</td>\n",
       "      <td>0</td>\n",
       "      <td>0</td>\n",
       "      <td>0</td>\n",
       "      <td>0</td>\n",
       "    </tr>\n",
       "    <tr>\n",
       "      <th>1</th>\n",
       "      <td>0</td>\n",
       "      <td>0</td>\n",
       "      <td>0</td>\n",
       "      <td>0</td>\n",
       "      <td>0</td>\n",
       "      <td>0</td>\n",
       "      <td>0</td>\n",
       "      <td>0</td>\n",
       "      <td>0</td>\n",
       "      <td>0</td>\n",
       "      <td>...</td>\n",
       "      <td>0</td>\n",
       "      <td>0</td>\n",
       "      <td>0</td>\n",
       "      <td>0</td>\n",
       "      <td>0</td>\n",
       "      <td>0</td>\n",
       "      <td>0</td>\n",
       "      <td>0</td>\n",
       "      <td>0</td>\n",
       "      <td>0</td>\n",
       "    </tr>\n",
       "    <tr>\n",
       "      <th>2</th>\n",
       "      <td>0</td>\n",
       "      <td>0</td>\n",
       "      <td>0</td>\n",
       "      <td>0</td>\n",
       "      <td>0</td>\n",
       "      <td>0</td>\n",
       "      <td>0</td>\n",
       "      <td>0</td>\n",
       "      <td>0</td>\n",
       "      <td>0</td>\n",
       "      <td>...</td>\n",
       "      <td>0</td>\n",
       "      <td>0</td>\n",
       "      <td>0</td>\n",
       "      <td>0</td>\n",
       "      <td>0</td>\n",
       "      <td>0</td>\n",
       "      <td>0</td>\n",
       "      <td>0</td>\n",
       "      <td>0</td>\n",
       "      <td>0</td>\n",
       "    </tr>\n",
       "    <tr>\n",
       "      <th>3</th>\n",
       "      <td>0</td>\n",
       "      <td>0</td>\n",
       "      <td>0</td>\n",
       "      <td>0</td>\n",
       "      <td>0</td>\n",
       "      <td>0</td>\n",
       "      <td>0</td>\n",
       "      <td>0</td>\n",
       "      <td>0</td>\n",
       "      <td>0</td>\n",
       "      <td>...</td>\n",
       "      <td>0</td>\n",
       "      <td>0</td>\n",
       "      <td>0</td>\n",
       "      <td>0</td>\n",
       "      <td>0</td>\n",
       "      <td>0</td>\n",
       "      <td>0</td>\n",
       "      <td>0</td>\n",
       "      <td>0</td>\n",
       "      <td>0</td>\n",
       "    </tr>\n",
       "    <tr>\n",
       "      <th>4</th>\n",
       "      <td>0</td>\n",
       "      <td>0</td>\n",
       "      <td>0</td>\n",
       "      <td>0</td>\n",
       "      <td>0</td>\n",
       "      <td>0</td>\n",
       "      <td>0</td>\n",
       "      <td>0</td>\n",
       "      <td>0</td>\n",
       "      <td>0</td>\n",
       "      <td>...</td>\n",
       "      <td>0</td>\n",
       "      <td>0</td>\n",
       "      <td>0</td>\n",
       "      <td>0</td>\n",
       "      <td>0</td>\n",
       "      <td>0</td>\n",
       "      <td>0</td>\n",
       "      <td>0</td>\n",
       "      <td>0</td>\n",
       "      <td>0</td>\n",
       "    </tr>\n",
       "  </tbody>\n",
       "</table>\n",
       "<p>5 rows × 784 columns</p>\n",
       "</div>"
      ],
      "text/plain": [
       "   pixel0  pixel1  pixel2  pixel3  pixel4  pixel5  pixel6  pixel7  pixel8  \\\n",
       "0       0       0       0       0       0       0       0       0       0   \n",
       "1       0       0       0       0       0       0       0       0       0   \n",
       "2       0       0       0       0       0       0       0       0       0   \n",
       "3       0       0       0       0       0       0       0       0       0   \n",
       "4       0       0       0       0       0       0       0       0       0   \n",
       "\n",
       "   pixel9  ...  pixel774  pixel775  pixel776  pixel777  pixel778  pixel779  \\\n",
       "0       0  ...         0         0         0         0         0         0   \n",
       "1       0  ...         0         0         0         0         0         0   \n",
       "2       0  ...         0         0         0         0         0         0   \n",
       "3       0  ...         0         0         0         0         0         0   \n",
       "4       0  ...         0         0         0         0         0         0   \n",
       "\n",
       "   pixel780  pixel781  pixel782  pixel783  \n",
       "0         0         0         0         0  \n",
       "1         0         0         0         0  \n",
       "2         0         0         0         0  \n",
       "3         0         0         0         0  \n",
       "4         0         0         0         0  \n",
       "\n",
       "[5 rows x 784 columns]"
      ]
     },
     "execution_count": 86,
     "metadata": {},
     "output_type": "execute_result"
    }
   ],
   "source": [
    "X_test.head()"
   ]
  },
  {
   "cell_type": "code",
   "execution_count": 87,
   "metadata": {},
   "outputs": [],
   "source": [
    "submission_example = pd.read_csv(zf.open('sample_submission.csv', mode='r'))"
   ]
  },
  {
   "cell_type": "code",
   "execution_count": 88,
   "metadata": {},
   "outputs": [
    {
     "data": {
      "text/html": [
       "<div>\n",
       "<style scoped>\n",
       "    .dataframe tbody tr th:only-of-type {\n",
       "        vertical-align: middle;\n",
       "    }\n",
       "\n",
       "    .dataframe tbody tr th {\n",
       "        vertical-align: top;\n",
       "    }\n",
       "\n",
       "    .dataframe thead th {\n",
       "        text-align: right;\n",
       "    }\n",
       "</style>\n",
       "<table border=\"1\" class=\"dataframe\">\n",
       "  <thead>\n",
       "    <tr style=\"text-align: right;\">\n",
       "      <th></th>\n",
       "      <th>ImageId</th>\n",
       "      <th>Label</th>\n",
       "    </tr>\n",
       "  </thead>\n",
       "  <tbody>\n",
       "    <tr>\n",
       "      <th>0</th>\n",
       "      <td>1</td>\n",
       "      <td>0</td>\n",
       "    </tr>\n",
       "    <tr>\n",
       "      <th>1</th>\n",
       "      <td>2</td>\n",
       "      <td>0</td>\n",
       "    </tr>\n",
       "    <tr>\n",
       "      <th>2</th>\n",
       "      <td>3</td>\n",
       "      <td>0</td>\n",
       "    </tr>\n",
       "    <tr>\n",
       "      <th>3</th>\n",
       "      <td>4</td>\n",
       "      <td>0</td>\n",
       "    </tr>\n",
       "    <tr>\n",
       "      <th>4</th>\n",
       "      <td>5</td>\n",
       "      <td>0</td>\n",
       "    </tr>\n",
       "  </tbody>\n",
       "</table>\n",
       "</div>"
      ],
      "text/plain": [
       "   ImageId  Label\n",
       "0        1      0\n",
       "1        2      0\n",
       "2        3      0\n",
       "3        4      0\n",
       "4        5      0"
      ]
     },
     "execution_count": 88,
     "metadata": {},
     "output_type": "execute_result"
    }
   ],
   "source": [
    "submission_example.head()"
   ]
  },
  {
   "cell_type": "code",
   "execution_count": 89,
   "metadata": {},
   "outputs": [],
   "source": [
    "X_train, y_train = data_train.drop(columns='label'), data_train.label"
   ]
  },
  {
   "cell_type": "code",
   "execution_count": 90,
   "metadata": {},
   "outputs": [],
   "source": [
    "X_train = np.array(X_train)\n",
    "y_train = np.array(y_train)\n",
    "\n",
    "X_test = np.array(X_test)"
   ]
  },
  {
   "cell_type": "code",
   "execution_count": 91,
   "metadata": {},
   "outputs": [],
   "source": [
    "X_train = X_train.astype(\"float32\")\n",
    "X_train /= 255\n",
    "Y_train = np_utils.to_categorical(y_train, 10)\n",
    "\n",
    "X_test = X_test.astype(\"float32\")\n",
    "X_test /= 255\n"
   ]
  },
  {
   "cell_type": "markdown",
   "metadata": {},
   "source": [
    "## Визуализируем цифры"
   ]
  },
  {
   "cell_type": "code",
   "execution_count": 7,
   "metadata": {},
   "outputs": [],
   "source": [
    "import matplotlib as mpl\n",
    "import matplotlib.pyplot as plt\n",
    "mpl.rcParams['font.size'] = 20   \n",
    "def show_digits(images_array, image_labels, predictions, indices = range(5)):\n",
    "    columns = 5\n",
    "    rows = len(indices)//columns + (0 if len(indices)%columns == 0 else 1)        \n",
    "    fig = plt.figure(figsize=(25, 25))        \n",
    "    for i, ind in enumerate(indices):    \n",
    "        ax = fig.add_subplot(rows, columns, i+1)      \n",
    "        image = np.reshape(images_array[ind], [28, 28])\n",
    "        str_title = \"Label:\" + str(np.argmax(image_labels[ind])) + \" Prediction:\" + str(np.argmax(predictions[ind]))\n",
    "        ax.set_title(str_title)\n",
    "        plt.imshow(image)    \n",
    "    plt.tight_layout()\n",
    "    plt.show()"
   ]
  },
  {
   "cell_type": "code",
   "execution_count": 9,
   "metadata": {},
   "outputs": [
    {
     "data": {
      "image/png": "[encoded data removed]",
      "text/plain": [
       "<Figure size 1800x1800 with 5 Axes>"
      ]
     },
     "metadata": {
      "needs_background": "light"
     },
     "output_type": "display_data"
    }
   ],
   "source": [
    "show_digits(X_train, y_train, y_train)"
   ]
  },
  {
   "cell_type": "markdown",
   "metadata": {},
   "source": [
    "## Сверточная сеть на чистом TensorFlow"
   ]
  },
  {
   "cell_type": "code",
   "execution_count": 10,
   "metadata": {},
   "outputs": [],
   "source": [
    "import tensorflow as tf\n",
    "\n",
    "x = tf.placeholder(tf.float32, [None, 784])\n",
    "y = tf.placeholder(tf.float32, [None, 10])"
   ]
  },
  {
   "cell_type": "markdown",
   "metadata": {},
   "source": [
    "Входные данные для двумерной свертки в TensoFlow должны иметь четырехмерную структуру, которая выглядит так:\n",
    "$$[размер \\: батча, \\: высота, \\: ширина, \\: каналы]$$\n",
    "\n",
    "А размерность тензора сверточных весов определяется размерами ядра свертки и числом каналов как на входе, так и на выходе. Получается снова четырехмерный тензор, но уже следующего вида:\n",
    "$$[высота, \\: ширина, \\: входные \\: каналы, \\: выходные \\: каналы]$$\n",
    "\n",
    "Будем использовать 32 различных ядер свертки одного размера 5х5."
   ]
  },
  {
   "cell_type": "code",
   "execution_count": 11,
   "metadata": {},
   "outputs": [],
   "source": [
    "x_image = tf.reshape(x, [-1, 28, 28, 1])\n",
    "W_conv_1 = tf.Variable(tf.truncated_normal([5, 5, 1, 32], stddev=0.1))\n",
    "b_conv_1 = tf.Variable(tf.constant(0.1, shape=[32]))"
   ]
  },
  {
   "cell_type": "markdown",
   "metadata": {},
   "source": [
    "Здесь $-1$ в `tf.reshape(x, [-1, 28, 28, 1])` означает заранее неизвестный размер мини-батча. А последняя единичка говорит нам о том, что канал всего лишь один, т.е. наши изображения монохромные. \n",
    "\n",
    "Теперь у нас определены переменные для всех весов сверточного слоя. Используем функцию `tf.nn.conv2d` для применения сверточных фильтров. Аргумент `strides` задает шаг по изображению. Зададим шаг 1 по всем размерностям. Аргумент `padding` говорит как быть с окнами, которые \"вылезают\" за границы входного массива."
   ]
  },
  {
   "cell_type": "code",
   "execution_count": 12,
   "metadata": {},
   "outputs": [],
   "source": [
    "conv_1 = tf.nn.conv2d(x_image, W_conv_1, strides=[1, 1, 1, 1], padding=\"SAME\") + b_conv_1"
   ]
  },
  {
   "cell_type": "markdown",
   "metadata": {},
   "source": [
    "В качестве функции активации возьмем ReLU"
   ]
  },
  {
   "cell_type": "code",
   "execution_count": 13,
   "metadata": {},
   "outputs": [],
   "source": [
    "h_conv_1 = tf.nn.relu(conv_1)"
   ]
  },
  {
   "cell_type": "markdown",
   "metadata": {},
   "source": [
    "Итак, слой фильтров с нелинейностью готов. Осталось только добавить слой субдискретизации (pooling). Обычно в качестве операции субдискретизации к каждой локальной группе нейронов применяется операция взятия максимума (max-pooling). \n",
    "\n",
    "Хотя в результате субдискретизации теряется часть информации, сеть становится более устойчивой к небольшим трансформациям изображения вроде сдвига и поворота. Параметр `ksize` задает размер окна субдискретизации по всем четыремя размерностям."
   ]
  },
  {
   "cell_type": "code",
   "execution_count": 14,
   "metadata": {},
   "outputs": [],
   "source": [
    "h_pool_1 = tf.nn.max_pool(h_conv_1, ksize=[1, 2, 2, 1], strides=[1, 2, 2, 1], padding=\"SAME\")"
   ]
  },
  {
   "cell_type": "markdown",
   "metadata": {},
   "source": [
    "Параметры `strides` и `padding`означают здесь то же самое, что в сверточном слое, только в этот раз мы двигаемся по изображению в обе стороны с шагом 2. Понятно, что после этого слоя размер изображения в обоиз направления уменьшится вдвое, до 14х14.\n",
    "\n",
    "Теперь давайте добавим еще один сверточный слой и слой субдискретизации, в этот раз используем на этом слое 64 фильтра:\n"
   ]
  },
  {
   "cell_type": "code",
   "execution_count": 15,
   "metadata": {},
   "outputs": [],
   "source": [
    "W_conv_2 = tf.Variable(tf.truncated_normal([5, 5, 32, 64], stddev=0.1))\n",
    "b_conv_2 = tf.Variable(tf.constant(0.1, shape=[64]))\n",
    "conv_2 = tf.nn.conv2d(h_pool_1, W_conv_2, strides=[1, 1, 1, 1], padding=\"SAME\") + b_conv_2\n",
    "\n",
    "h_conv_2 = tf.nn.relu(conv_2)\n",
    "h_pool_2 = tf.nn.max_pool(h_conv_2,  ksize=[1, 2, 2, 1], strides=[1, 2, 2, 1], padding=\"SAME\")#должно быть 7х7, но 14х14.Почему?"
   ]
  },
  {
   "cell_type": "markdown",
   "metadata": {},
   "source": [
    "Как правило, в глубоких нейронных сетях за сверточным слоем следуют полносвязные, задача которых состоит в том, чтобы \"собрать вместе\" все признаки из фильтров и собственно перевести их в самый последний слой, который выдаст ответ. Но для начала нам нужно из двумерного слоя сделать плоский:"
   ]
  },
  {
   "cell_type": "code",
   "execution_count": 16,
   "metadata": {},
   "outputs": [],
   "source": [
    "h_pool_2_flat = tf.reshape(h_pool_2, [-1, 7*7*64])"
   ]
  },
  {
   "cell_type": "markdown",
   "metadata": {},
   "source": [
    "Число $7 \\cdot  7 \\cdot 64$ возникло из-за того, что мы дважды применили субдискретизацию и при этом в последнем слое использовали 64 фильтра. И теперь осталось только добавить полносвязные слои. Добавляем первый слой из 1024 нейронов"
   ]
  },
  {
   "cell_type": "code",
   "execution_count": 17,
   "metadata": {},
   "outputs": [],
   "source": [
    "W_fc_1 = tf.Variable(tf.truncated_normal([7*7*64, 1024], stddev=0.1))\n",
    "b_fc_1 = tf.Variable(tf.constant(0.1, shape=[1024]))\n",
    "h_fc_1 = tf.nn.relu(tf.matmul(h_pool_2_flat, W_fc_1) + b_fc_1)"
   ]
  },
  {
   "cell_type": "markdown",
   "metadata": {},
   "source": [
    "Регуляризируем дропаутом:"
   ]
  },
  {
   "cell_type": "code",
   "execution_count": 18,
   "metadata": {},
   "outputs": [],
   "source": [
    "keep_propability = tf.placeholder(tf.float32, name=\"keep_prob\")\n",
    "h_fc_1_drop = tf.nn.dropout(h_fc_1, keep_propability)"
   ]
  },
  {
   "cell_type": "markdown",
   "metadata": {},
   "source": [
    "Теперь добавляем последний слой с десятью выходами:"
   ]
  },
  {
   "cell_type": "code",
   "execution_count": 19,
   "metadata": {},
   "outputs": [],
   "source": [
    "W_fc_2 = tf.Variable(tf.truncated_normal([1024, 10], stddev=0.1))\n",
    "b_fc_2 = tf.Variable(tf.constant(0.1, shape=[10]))\n",
    "\n",
    "logit_conv = tf.matmul(h_fc_1_drop, W_fc_2) + b_fc_2\n",
    "y_conv = tf.nn.softmax(logit_conv)"
   ]
  },
  {
   "cell_type": "markdown",
   "metadata": {},
   "source": [
    "Осталось определить ошибку и ввести оптимизатор. Используем алгоритм адаптивного градиентонго спуска `Adam`. Его идея в том, что шаг изменения должен быть меньше у тех весов, котоыре в большей степени варьируются в данных, и больше у тех, которые менее изменчиввы в разных примерах."
   ]
  },
  {
   "cell_type": "code",
   "execution_count": 20,
   "metadata": {},
   "outputs": [],
   "source": [
    "cross_entropy = tf.reduce_mean(tf.nn.softmax_cross_entropy_with_logits_v2(logits=logit_conv, labels=y))\n",
    "train_step = tf.train.AdamOptimizer(0.0001).minimize(cross_entropy)"
   ]
  },
  {
   "cell_type": "code",
   "execution_count": 21,
   "metadata": {},
   "outputs": [],
   "source": [
    "correct_prediction = tf.equal(tf.argmax(y_conv, 1), tf.argmax(y, 1))\n",
    "accuracy = tf.reduce_mean(tf.cast(correct_prediction, tf.float32))"
   ]
  },
  {
   "cell_type": "code",
   "execution_count": 22,
   "metadata": {},
   "outputs": [],
   "source": [
    "init = tf.global_variables_initializer()\n",
    "sess = tf.Session()\n",
    "sess.run(init)"
   ]
  },
  {
   "cell_type": "code",
   "execution_count": 127,
   "metadata": {
    "scrolled": false
   },
   "outputs": [],
   "source": [
    "import numpy as np \n",
    "batch_size = 64\n",
    "for i in range(10000):\n",
    "    rand_indexes = np.random.choice(range(X_train.shape[0]), batch_size)\n",
    "    batch_xs, batch_ys = X_train[rand_indexes].reshape(batch_size, 784), Y_train[rand_indexes].reshape(batch_size, 10)\n",
    "    #batch_xs, batch_ys = mnist.train.next_batch(64)\n",
    "    sess.run(train_step, feed_dict = {x:batch_xs, y:batch_ys, keep_propability:0.5})"
   ]
  },
  {
   "cell_type": "code",
   "execution_count": 128,
   "metadata": {},
   "outputs": [],
   "source": [
    "error_rate_1 = sess.run(accuracy, feed_dict = {x: X_train.reshape(X_train.shape[0], 784)[:5000],\n",
    "                                               y: Y_train.reshape(X_train.shape[0], 10)[:5000], keep_propability: 1.})"
   ]
  },
  {
   "cell_type": "code",
   "execution_count": 129,
   "metadata": {},
   "outputs": [
    {
     "data": {
      "text/plain": [
       "0.999"
      ]
     },
     "execution_count": 129,
     "metadata": {},
     "output_type": "execute_result"
    }
   ],
   "source": [
    "error_rate_1"
   ]
  },
  {
   "cell_type": "markdown",
   "metadata": {},
   "source": [
    "## Prediction and write to csv"
   ]
  },
  {
   "cell_type": "code",
   "execution_count": 130,
   "metadata": {},
   "outputs": [
    {
     "data": {
      "text/plain": [
       "(28000, 784)"
      ]
     },
     "execution_count": 130,
     "metadata": {},
     "output_type": "execute_result"
    }
   ],
   "source": [
    "X_test.shape"
   ]
  },
  {
   "cell_type": "code",
   "execution_count": 131,
   "metadata": {
    "scrolled": false
   },
   "outputs": [],
   "source": [
    "predictions_prob = sess.run(y_conv, feed_dict={x: X_test[:5000], keep_propability: 1.})"
   ]
  },
  {
   "cell_type": "code",
   "execution_count": 132,
   "metadata": {},
   "outputs": [],
   "source": [
    "predictions = np.argmax(prdeictions_prob, axis=1)"
   ]
  },
  {
   "cell_type": "code",
   "execution_count": 133,
   "metadata": {},
   "outputs": [
    {
     "data": {
      "text/plain": [
       "(5000,)"
      ]
     },
     "execution_count": 133,
     "metadata": {},
     "output_type": "execute_result"
    }
   ],
   "source": [
    "predictions.shape"
   ]
  },
  {
   "cell_type": "code",
   "execution_count": 134,
   "metadata": {},
   "outputs": [],
   "source": [
    "answer = pd.DataFrame()"
   ]
  },
  {
   "cell_type": "code",
   "execution_count": 135,
   "metadata": {},
   "outputs": [],
   "source": [
    "for i in range(0, 5):\n",
    "    predictions = np.argmax(sess.run(y_conv, feed_dict={x: X_test[i*5000:(i+1)*5000], keep_propability: 1.}), axis=1)\n",
    "    tmp = pd.DataFrame({'ImageId': range(1 + i*(5000), 1+ 5000*(i+1)), 'Label': predictions})\n",
    "    answer = answer.append(tmp)"
   ]
  },
  {
   "cell_type": "code",
   "execution_count": 136,
   "metadata": {},
   "outputs": [],
   "source": [
    "predictions = np.argmax(sess.run(y_conv, feed_dict={x: X_test[25000:], keep_propability: 1.}), axis=1)"
   ]
  },
  {
   "cell_type": "code",
   "execution_count": 137,
   "metadata": {},
   "outputs": [],
   "source": [
    "tmp = pd.DataFrame({'ImageId': range(25001, 28001), 'Label': predictions})\n",
    "answer = answer.append(tmp)"
   ]
  },
  {
   "cell_type": "code",
   "execution_count": 138,
   "metadata": {},
   "outputs": [],
   "source": [
    "answer.to_csv('ans_digit_recon.csv', index=False)"
   ]
  },
  {
   "cell_type": "code",
   "execution_count": 139,
   "metadata": {},
   "outputs": [
    {
     "data": {
      "text/html": [
       "<div>\n",
       "<style scoped>\n",
       "    .dataframe tbody tr th:only-of-type {\n",
       "        vertical-align: middle;\n",
       "    }\n",
       "\n",
       "    .dataframe tbody tr th {\n",
       "        vertical-align: top;\n",
       "    }\n",
       "\n",
       "    .dataframe thead th {\n",
       "        text-align: right;\n",
       "    }\n",
       "</style>\n",
       "<table border=\"1\" class=\"dataframe\">\n",
       "  <thead>\n",
       "    <tr style=\"text-align: right;\">\n",
       "      <th></th>\n",
       "      <th>ImageId</th>\n",
       "      <th>Label</th>\n",
       "    </tr>\n",
       "  </thead>\n",
       "  <tbody>\n",
       "    <tr>\n",
       "      <th>0</th>\n",
       "      <td>1</td>\n",
       "      <td>2</td>\n",
       "    </tr>\n",
       "    <tr>\n",
       "      <th>1</th>\n",
       "      <td>2</td>\n",
       "      <td>0</td>\n",
       "    </tr>\n",
       "    <tr>\n",
       "      <th>2</th>\n",
       "      <td>3</td>\n",
       "      <td>9</td>\n",
       "    </tr>\n",
       "    <tr>\n",
       "      <th>3</th>\n",
       "      <td>4</td>\n",
       "      <td>9</td>\n",
       "    </tr>\n",
       "    <tr>\n",
       "      <th>4</th>\n",
       "      <td>5</td>\n",
       "      <td>3</td>\n",
       "    </tr>\n",
       "  </tbody>\n",
       "</table>\n",
       "</div>"
      ],
      "text/plain": [
       "   ImageId  Label\n",
       "0        1      2\n",
       "1        2      0\n",
       "2        3      9\n",
       "3        4      9\n",
       "4        5      3"
      ]
     },
     "execution_count": 139,
     "metadata": {},
     "output_type": "execute_result"
    }
   ],
   "source": [
    "answer2 = pd.read_csv('ans_digit_recon.csv')\n",
    "answer2.head()"
   ]
  },
  {
   "cell_type": "markdown",
   "metadata": {},
   "source": [
    "## Сверточная сеть на Keras"
   ]
  },
  {
   "cell_type": "code",
   "execution_count": 140,
   "metadata": {},
   "outputs": [],
   "source": [
    "from keras.models import Sequential\n",
    "from keras.layers import Dense, Dropout, Activation, Flatten\n",
    "from keras.layers import MaxPooling2D, Conv2D"
   ]
  },
  {
   "cell_type": "code",
   "execution_count": 141,
   "metadata": {},
   "outputs": [],
   "source": [
    "batch_size, img_rows, img_cols = 64, 28, 28\n",
    "\n",
    "X_train = X_train.reshape(X_train.shape[0], img_rows, img_cols, 1)\n",
    "X_test = X_test.reshape(X_test.shape[0], img_rows, img_cols, 1)\n",
    "input_shape = (img_rows, img_cols, 1)\n",
    "\n",
    "X_train = X_train.astype(\"float32\")\n",
    "X_train /= 255\n",
    "Y_train = np_utils.to_categorical(y_train, 10)\n",
    "\n",
    "X_test = X_test.astype(\"float32\")\n",
    "X_test /= 255"
   ]
  },
  {
   "cell_type": "code",
   "execution_count": 142,
   "metadata": {},
   "outputs": [],
   "source": [
    "model = Sequential()\n",
    "\n",
    "model.add(Conv2D(32, (5, 5),  input_shape=input_shape, padding=\"same\"))\n",
    "model.add(Activation(\"relu\"))\n",
    "model.add(MaxPooling2D(pool_size=(2, 2), strides=(2, 2), padding=\"same\"))\n",
    "\n",
    "model.add(Conv2D(64, (5, 5), padding=\"same\", input_shape=input_shape))\n",
    "model.add(Activation(\"relu\"))\n",
    "model.add(MaxPooling2D(pool_size=(2, 2), strides=(2, 2), padding=\"same\"))\n",
    "\n",
    "model.add(Flatten())\n",
    "model.add(Dense(1024))\n",
    "model.add(Activation(\"relu\"))\n",
    "model.add(Dropout(0.5))\n",
    "model.add(Dense(10))\n",
    "model.add(Activation(\"softmax\"))"
   ]
  },
  {
   "cell_type": "code",
   "execution_count": 143,
   "metadata": {},
   "outputs": [],
   "source": [
    "model.compile(loss=\"categorical_crossentropy\", optimizer=\"adam\", metrics=[\"accuracy\"])"
   ]
  },
  {
   "cell_type": "code",
   "execution_count": 145,
   "metadata": {
    "scrolled": false
   },
   "outputs": [
    {
     "name": "stdout",
     "output_type": "stream",
     "text": [
      "Train on 37800 samples, validate on 4200 samples\n",
      "Epoch 1/100\n",
      "37800/37800 [==============================] - 44s 1ms/step - loss: 0.0529 - acc: 0.9833 - val_loss: 0.0459 - val_acc: 0.9845\n",
      "Epoch 2/100\n",
      "37800/37800 [==============================] - 46s 1ms/step - loss: 0.0498 - acc: 0.9843 - val_loss: 0.0447 - val_acc: 0.9845\n",
      "Epoch 3/100\n",
      "37800/37800 [==============================] - 48s 1ms/step - loss: 0.0454 - acc: 0.9857 - val_loss: 0.0425 - val_acc: 0.9838\n",
      "Epoch 4/100\n",
      "37800/37800 [==============================] - 45s 1ms/step - loss: 0.0441 - acc: 0.9857 - val_loss: 0.0383 - val_acc: 0.9874\n",
      "Epoch 5/100\n",
      "37800/37800 [==============================] - 45s 1ms/step - loss: 0.0404 - acc: 0.9864 - val_loss: 0.0421 - val_acc: 0.9838\n",
      "Epoch 6/100\n",
      "37800/37800 [==============================] - 45s 1ms/step - loss: 0.0365 - acc: 0.9882 - val_loss: 0.0380 - val_acc: 0.9876\n",
      "Epoch 7/100\n",
      "37800/37800 [==============================] - 45s 1ms/step - loss: 0.0354 - acc: 0.9884 - val_loss: 0.0354 - val_acc: 0.9881\n",
      "Epoch 8/100\n",
      "37800/37800 [==============================] - 44s 1ms/step - loss: 0.0332 - acc: 0.9893 - val_loss: 0.0413 - val_acc: 0.9874\n",
      "Epoch 9/100\n",
      "37800/37800 [==============================] - 46s 1ms/step - loss: 0.0278 - acc: 0.9913 - val_loss: 0.0377 - val_acc: 0.9888\n",
      "Epoch 10/100\n",
      "37800/37800 [==============================] - 46s 1ms/step - loss: 0.0289 - acc: 0.9903 - val_loss: 0.0434 - val_acc: 0.9850\n",
      "Epoch 11/100\n",
      "37800/37800 [==============================] - 45s 1ms/step - loss: 0.0275 - acc: 0.9909 - val_loss: 0.0393 - val_acc: 0.9876\n",
      "Epoch 12/100\n",
      "37800/37800 [==============================] - 45s 1ms/step - loss: 0.0256 - acc: 0.9914 - val_loss: 0.0356 - val_acc: 0.9890\n",
      "Epoch 13/100\n",
      "37800/37800 [==============================] - 49s 1ms/step - loss: 0.0236 - acc: 0.9918 - val_loss: 0.0318 - val_acc: 0.9902\n",
      "Epoch 14/100\n",
      "37800/37800 [==============================] - 45s 1ms/step - loss: 0.0210 - acc: 0.9931 - val_loss: 0.0390 - val_acc: 0.9883\n",
      "Epoch 15/100\n",
      "37800/37800 [==============================] - 48s 1ms/step - loss: 0.0230 - acc: 0.9925 - val_loss: 0.0388 - val_acc: 0.9888\n",
      "Epoch 16/100\n",
      "37800/37800 [==============================] - 45s 1ms/step - loss: 0.0200 - acc: 0.9936 - val_loss: 0.0372 - val_acc: 0.9869\n",
      "Epoch 17/100\n",
      "37800/37800 [==============================] - 44s 1ms/step - loss: 0.0207 - acc: 0.9926 - val_loss: 0.0439 - val_acc: 0.9876\n",
      "Epoch 18/100\n",
      "37800/37800 [==============================] - 45s 1ms/step - loss: 0.0178 - acc: 0.9942 - val_loss: 0.0338 - val_acc: 0.9902\n",
      "Epoch 19/100\n",
      "37800/37800 [==============================] - 46s 1ms/step - loss: 0.0169 - acc: 0.9943 - val_loss: 0.0389 - val_acc: 0.9874\n",
      "Epoch 20/100\n",
      "37800/37800 [==============================] - 44s 1ms/step - loss: 0.0176 - acc: 0.9940 - val_loss: 0.0326 - val_acc: 0.9888\n",
      "Epoch 21/100\n",
      "37800/37800 [==============================] - 45s 1ms/step - loss: 0.0164 - acc: 0.9942 - val_loss: 0.0334 - val_acc: 0.9883\n",
      "Epoch 22/100\n",
      "37800/37800 [==============================] - 49s 1ms/step - loss: 0.0157 - acc: 0.9945 - val_loss: 0.0415 - val_acc: 0.9879\n",
      "Epoch 23/100\n",
      "37800/37800 [==============================] - 44s 1ms/step - loss: 0.0154 - acc: 0.9947 - val_loss: 0.0401 - val_acc: 0.9895\n",
      "Epoch 24/100\n",
      "37800/37800 [==============================] - 45s 1ms/step - loss: 0.0142 - acc: 0.9946 - val_loss: 0.0353 - val_acc: 0.9902\n",
      "Epoch 25/100\n",
      "37800/37800 [==============================] - 44s 1ms/step - loss: 0.0137 - acc: 0.9956 - val_loss: 0.0372 - val_acc: 0.9890\n",
      "Epoch 26/100\n",
      "37800/37800 [==============================] - 44s 1ms/step - loss: 0.0153 - acc: 0.9948 - val_loss: 0.0498 - val_acc: 0.9862\n",
      "Epoch 27/100\n",
      "37800/37800 [==============================] - 44s 1ms/step - loss: 0.0121 - acc: 0.9958 - val_loss: 0.0323 - val_acc: 0.9902\n",
      "Epoch 28/100\n",
      "37800/37800 [==============================] - 44s 1ms/step - loss: 0.0117 - acc: 0.9963 - val_loss: 0.0323 - val_acc: 0.9921\n",
      "Epoch 29/100\n",
      "37800/37800 [==============================] - 44s 1ms/step - loss: 0.0122 - acc: 0.9956 - val_loss: 0.0339 - val_acc: 0.9900\n",
      "Epoch 30/100\n",
      "37800/37800 [==============================] - 44s 1ms/step - loss: 0.0128 - acc: 0.9954 - val_loss: 0.0372 - val_acc: 0.9898\n",
      "Epoch 31/100\n",
      "37800/37800 [==============================] - 44s 1ms/step - loss: 0.0117 - acc: 0.9960 - val_loss: 0.0337 - val_acc: 0.9912\n",
      "Epoch 32/100\n",
      "37800/37800 [==============================] - 44s 1ms/step - loss: 0.0094 - acc: 0.9967 - val_loss: 0.0355 - val_acc: 0.9895\n",
      "Epoch 33/100\n",
      "37800/37800 [==============================] - 44s 1ms/step - loss: 0.0128 - acc: 0.9956 - val_loss: 0.0347 - val_acc: 0.9900\n",
      "Epoch 34/100\n",
      "37800/37800 [==============================] - 44s 1ms/step - loss: 0.0097 - acc: 0.9964 - val_loss: 0.0338 - val_acc: 0.9910\n",
      "Epoch 35/100\n",
      "37800/37800 [==============================] - 45s 1ms/step - loss: 0.0102 - acc: 0.9965 - val_loss: 0.0341 - val_acc: 0.9898\n",
      "Epoch 36/100\n",
      "37800/37800 [==============================] - 44s 1ms/step - loss: 0.0094 - acc: 0.9969 - val_loss: 0.0350 - val_acc: 0.9902\n",
      "Epoch 37/100\n",
      "37800/37800 [==============================] - 49s 1ms/step - loss: 0.0100 - acc: 0.9964 - val_loss: 0.0404 - val_acc: 0.9898\n",
      "Epoch 38/100\n",
      "37800/37800 [==============================] - 45s 1ms/step - loss: 0.0097 - acc: 0.9965 - val_loss: 0.0482 - val_acc: 0.9886\n",
      "Epoch 39/100\n",
      "37800/37800 [==============================] - 45s 1ms/step - loss: 0.0104 - acc: 0.9963 - val_loss: 0.0420 - val_acc: 0.9886\n",
      "Epoch 40/100\n",
      "37800/37800 [==============================] - 46s 1ms/step - loss: 0.0096 - acc: 0.9967 - val_loss: 0.0377 - val_acc: 0.9898\n",
      "Epoch 41/100\n",
      "37800/37800 [==============================] - 46s 1ms/step - loss: 0.0084 - acc: 0.9972 - val_loss: 0.0423 - val_acc: 0.9900\n",
      "Epoch 42/100\n",
      "37800/37800 [==============================] - 45s 1ms/step - loss: 0.0094 - acc: 0.9968 - val_loss: 0.0398 - val_acc: 0.9893\n",
      "Epoch 43/100\n",
      "37800/37800 [==============================] - 44s 1ms/step - loss: 0.0095 - acc: 0.9966 - val_loss: 0.0385 - val_acc: 0.9895\n",
      "Epoch 44/100\n",
      "37800/37800 [==============================] - 44s 1ms/step - loss: 0.0084 - acc: 0.9969 - val_loss: 0.0415 - val_acc: 0.9895\n",
      "Epoch 45/100\n",
      "37800/37800 [==============================] - 44s 1ms/step - loss: 0.0078 - acc: 0.9975 - val_loss: 0.0421 - val_acc: 0.9890\n",
      "Epoch 46/100\n",
      "37800/37800 [==============================] - 44s 1ms/step - loss: 0.0077 - acc: 0.9974 - val_loss: 0.0358 - val_acc: 0.9898\n",
      "Epoch 47/100\n",
      "37800/37800 [==============================] - 45s 1ms/step - loss: 0.0090 - acc: 0.9968 - val_loss: 0.0348 - val_acc: 0.9900\n",
      "Epoch 48/100\n",
      "37800/37800 [==============================] - 44s 1ms/step - loss: 0.0079 - acc: 0.9973 - val_loss: 0.0362 - val_acc: 0.9902\n",
      "Epoch 49/100\n",
      "37800/37800 [==============================] - 44s 1ms/step - loss: 0.0066 - acc: 0.9977 - val_loss: 0.0351 - val_acc: 0.9902\n",
      "Epoch 50/100\n",
      "37800/37800 [==============================] - 44s 1ms/step - loss: 0.0054 - acc: 0.9982 - val_loss: 0.0367 - val_acc: 0.9905\n",
      "Epoch 51/100\n",
      "37800/37800 [==============================] - 45s 1ms/step - loss: 0.0074 - acc: 0.9974 - val_loss: 0.0401 - val_acc: 0.9902\n",
      "Epoch 52/100\n",
      "37800/37800 [==============================] - 44s 1ms/step - loss: 0.0076 - acc: 0.9971 - val_loss: 0.0449 - val_acc: 0.9898\n",
      "Epoch 53/100\n",
      "37800/37800 [==============================] - 46s 1ms/step - loss: 0.0078 - acc: 0.9973 - val_loss: 0.0304 - val_acc: 0.9926\n",
      "Epoch 54/100\n",
      "37800/37800 [==============================] - 47s 1ms/step - loss: 0.0066 - acc: 0.9978 - val_loss: 0.0374 - val_acc: 0.9910\n",
      "Epoch 55/100\n",
      "37800/37800 [==============================] - 44s 1ms/step - loss: 0.0063 - acc: 0.9978 - val_loss: 0.0486 - val_acc: 0.9900\n",
      "Epoch 56/100\n",
      "37800/37800 [==============================] - 46s 1ms/step - loss: 0.0052 - acc: 0.9984 - val_loss: 0.0379 - val_acc: 0.9917\n",
      "Epoch 57/100\n",
      "37800/37800 [==============================] - 44s 1ms/step - loss: 0.0052 - acc: 0.9982 - val_loss: 0.0429 - val_acc: 0.9907\n",
      "Epoch 58/100\n",
      "37800/37800 [==============================] - 44s 1ms/step - loss: 0.0061 - acc: 0.9979 - val_loss: 0.0472 - val_acc: 0.9888\n",
      "Epoch 59/100\n",
      "37800/37800 [==============================] - 50s 1ms/step - loss: 0.0050 - acc: 0.9984 - val_loss: 0.0376 - val_acc: 0.9900\n",
      "Epoch 60/100\n",
      "37800/37800 [==============================] - 46s 1ms/step - loss: 0.0056 - acc: 0.9979 - val_loss: 0.0393 - val_acc: 0.9898\n",
      "Epoch 61/100\n",
      "37800/37800 [==============================] - 45s 1ms/step - loss: 0.0066 - acc: 0.9976 - val_loss: 0.0436 - val_acc: 0.9898\n",
      "Epoch 62/100\n",
      "37800/37800 [==============================] - 45s 1ms/step - loss: 0.0055 - acc: 0.9983 - val_loss: 0.0501 - val_acc: 0.9895\n",
      "Epoch 63/100\n",
      "37800/37800 [==============================] - 44s 1ms/step - loss: 0.0062 - acc: 0.9980 - val_loss: 0.0364 - val_acc: 0.9910\n",
      "Epoch 64/100\n",
      "37800/37800 [==============================] - 44s 1ms/step - loss: 0.0072 - acc: 0.9976 - val_loss: 0.0476 - val_acc: 0.9907\n",
      "Epoch 65/100\n",
      "37800/37800 [==============================] - 45s 1ms/step - loss: 0.0045 - acc: 0.9986 - val_loss: 0.0461 - val_acc: 0.9900\n",
      "Epoch 66/100\n",
      "37800/37800 [==============================] - 45s 1ms/step - loss: 0.0056 - acc: 0.9981 - val_loss: 0.0404 - val_acc: 0.9898\n",
      "Epoch 67/100\n",
      "37800/37800 [==============================] - 45s 1ms/step - loss: 0.0057 - acc: 0.9980 - val_loss: 0.0399 - val_acc: 0.9900\n",
      "Epoch 68/100\n",
      "37800/37800 [==============================] - 45s 1ms/step - loss: 0.0051 - acc: 0.9981 - val_loss: 0.0373 - val_acc: 0.9895\n",
      "Epoch 69/100\n",
      "37800/37800 [==============================] - 44s 1ms/step - loss: 0.0052 - acc: 0.9981 - val_loss: 0.0342 - val_acc: 0.9905\n",
      "Epoch 70/100\n",
      "37800/37800 [==============================] - 45s 1ms/step - loss: 0.0068 - acc: 0.9974 - val_loss: 0.0435 - val_acc: 0.9898\n",
      "Epoch 71/100\n",
      "37800/37800 [==============================] - 45s 1ms/step - loss: 0.0070 - acc: 0.9974 - val_loss: 0.0381 - val_acc: 0.9902\n",
      "Epoch 72/100\n",
      "37800/37800 [==============================] - 45s 1ms/step - loss: 0.0041 - acc: 0.9986 - val_loss: 0.0408 - val_acc: 0.9895\n",
      "Epoch 73/100\n",
      "37800/37800 [==============================] - 45s 1ms/step - loss: 0.0042 - acc: 0.9985 - val_loss: 0.0418 - val_acc: 0.9907\n",
      "Epoch 74/100\n",
      "37800/37800 [==============================] - 44s 1ms/step - loss: 0.0065 - acc: 0.9979 - val_loss: 0.0400 - val_acc: 0.9905\n",
      "Epoch 75/100\n",
      "37800/37800 [==============================] - 45s 1ms/step - loss: 0.0048 - acc: 0.9981 - val_loss: 0.0391 - val_acc: 0.9907\n",
      "Epoch 76/100\n",
      "37800/37800 [==============================] - 44s 1ms/step - loss: 0.0045 - acc: 0.9986 - val_loss: 0.0372 - val_acc: 0.9907\n",
      "Epoch 77/100\n",
      "37800/37800 [==============================] - 45s 1ms/step - loss: 0.0043 - acc: 0.9983 - val_loss: 0.0318 - val_acc: 0.9921\n",
      "Epoch 78/100\n",
      "37800/37800 [==============================] - 44s 1ms/step - loss: 0.0060 - acc: 0.9979 - val_loss: 0.0439 - val_acc: 0.9912\n",
      "Epoch 79/100\n",
      "37800/37800 [==============================] - 44s 1ms/step - loss: 0.0036 - acc: 0.9987 - val_loss: 0.0433 - val_acc: 0.9890\n",
      "Epoch 80/100\n",
      "37800/37800 [==============================] - 44s 1ms/step - loss: 0.0035 - acc: 0.9988 - val_loss: 0.0436 - val_acc: 0.9895\n",
      "Epoch 81/100\n",
      "37800/37800 [==============================] - 44s 1ms/step - loss: 0.0057 - acc: 0.9980 - val_loss: 0.0551 - val_acc: 0.9890\n",
      "Epoch 82/100\n",
      "37800/37800 [==============================] - 46s 1ms/step - loss: 0.0057 - acc: 0.9983 - val_loss: 0.0461 - val_acc: 0.9898\n",
      "Epoch 83/100\n",
      "37800/37800 [==============================] - 44s 1ms/step - loss: 0.0028 - acc: 0.9990 - val_loss: 0.0481 - val_acc: 0.9910\n",
      "Epoch 84/100\n",
      "37800/37800 [==============================] - 44s 1ms/step - loss: 0.0049 - acc: 0.9983 - val_loss: 0.0389 - val_acc: 0.9914\n",
      "Epoch 85/100\n",
      "37800/37800 [==============================] - 44s 1ms/step - loss: 0.0048 - acc: 0.9984 - val_loss: 0.0507 - val_acc: 0.9898\n",
      "Epoch 86/100\n",
      "37800/37800 [==============================] - 44s 1ms/step - loss: 0.0064 - acc: 0.9979 - val_loss: 0.0368 - val_acc: 0.9924\n",
      "Epoch 87/100\n",
      "37800/37800 [==============================] - 44s 1ms/step - loss: 0.0051 - acc: 0.9983 - val_loss: 0.0404 - val_acc: 0.9910\n",
      "Epoch 88/100\n",
      "37800/37800 [==============================] - 44s 1ms/step - loss: 0.0040 - acc: 0.9988 - val_loss: 0.0437 - val_acc: 0.9902\n",
      "Epoch 89/100\n",
      "37800/37800 [==============================] - 44s 1ms/step - loss: 0.0026 - acc: 0.9992 - val_loss: 0.0371 - val_acc: 0.9919\n",
      "Epoch 90/100\n",
      "37800/37800 [==============================] - 44s 1ms/step - loss: 0.0070 - acc: 0.9977 - val_loss: 0.0331 - val_acc: 0.9931\n",
      "Epoch 91/100\n",
      "37800/37800 [==============================] - 44s 1ms/step - loss: 0.0044 - acc: 0.9986 - val_loss: 0.0474 - val_acc: 0.9910\n",
      "Epoch 92/100\n",
      "37800/37800 [==============================] - 44s 1ms/step - loss: 0.0041 - acc: 0.9986 - val_loss: 0.0426 - val_acc: 0.9914\n",
      "Epoch 93/100\n",
      "37800/37800 [==============================] - 44s 1ms/step - loss: 0.0042 - acc: 0.9986 - val_loss: 0.0392 - val_acc: 0.9914\n",
      "Epoch 94/100\n",
      "37800/37800 [==============================] - 44s 1ms/step - loss: 0.0031 - acc: 0.9987 - val_loss: 0.0430 - val_acc: 0.9914\n",
      "Epoch 95/100\n",
      "37800/37800 [==============================] - 44s 1ms/step - loss: 0.0039 - acc: 0.9987 - val_loss: 0.0424 - val_acc: 0.9905\n",
      "Epoch 96/100\n",
      "37800/37800 [==============================] - 44s 1ms/step - loss: 0.0041 - acc: 0.9985 - val_loss: 0.0396 - val_acc: 0.9907\n",
      "Epoch 97/100\n",
      "37800/37800 [==============================] - 44s 1ms/step - loss: 0.0044 - acc: 0.9986 - val_loss: 0.0348 - val_acc: 0.9919\n",
      "Epoch 98/100\n",
      "37800/37800 [==============================] - 44s 1ms/step - loss: 0.0051 - acc: 0.9981 - val_loss: 0.0533 - val_acc: 0.9910\n",
      "Epoch 99/100\n",
      "37800/37800 [==============================] - 44s 1ms/step - loss: 0.0050 - acc: 0.9984 - val_loss: 0.0431 - val_acc: 0.9914\n",
      "Epoch 100/100\n",
      "37800/37800 [==============================] - 44s 1ms/step - loss: 0.0027 - acc: 0.9990 - val_loss: 0.0404 - val_acc: 0.9900\n"
     ]
    },
    {
     "data": {
      "text/plain": [
       "<keras.callbacks.History at 0x14249adaac8>"
      ]
     },
     "execution_count": 145,
     "metadata": {},
     "output_type": "execute_result"
    }
   ],
   "source": [
    "from keras.callbacks import ModelCheckpoint\n",
    "model.fit(X_train, Y_train, \n",
    "          callbacks=[ModelCheckpoint(\"model.hdf5\", monitor=\"val_acc\",\n",
    "                                     save_best_only=True, save_weights_only=False, mode=\"auto\")],\n",
    "          validation_split=0.1, epochs=100, batch_size=64)"
   ]
  },
  {
   "cell_type": "markdown",
   "metadata": {},
   "source": [
    "## Plot the loss and accuracy curves for training and validation "
   ]
  },
  {
   "cell_type": "code",
   "execution_count": 185,
   "metadata": {},
   "outputs": [
    {
     "data": {
      "image/png": "[encoded data removed]",
      "text/plain": [
       "<Figure size 432x288 with 2 Axes>"
      ]
     },
     "metadata": {
      "needs_background": "light"
     },
     "output_type": "display_data"
    }
   ],
   "source": [
    "fig, ax = plt.subplots(2,1)\n",
    "\n",
    "ax[0].plot(model.history.history['loss'], color='b', label=\"Training loss\")\n",
    "ax[0].plot(model.history.history['val_loss'], color='r', label=\"validation loss\",axes =ax[0])\n",
    "legend = ax[0].legend(loc='best', shadow=True)\n",
    "\n",
    "ax[1].plot(model.history.history['acc'], color='b', label=\"Training accuracy\")\n",
    "ax[1].plot(model.history.history['val_acc'], color='r',label=\"Validation accuracy\")\n",
    "legend = ax[1].legend(loc='best', shadow=True)"
   ]
  },
  {
   "cell_type": "markdown",
   "metadata": {},
   "source": [
    "## kaggle write answer"
   ]
  },
  {
   "cell_type": "code",
   "execution_count": 161,
   "metadata": {},
   "outputs": [
    {
     "name": "stdout",
     "output_type": "stream",
     "text": [
      "Train on 41580 samples, validate on 420 samples\n",
      "Epoch 1/5\n",
      "41580/41580 [==============================] - 47s 1ms/step - loss: 0.0110 - acc: 0.9971 - val_loss: 0.0295 - val_acc: 0.9952\n",
      "Epoch 2/5\n",
      "41580/41580 [==============================] - 48s 1ms/step - loss: 0.0068 - acc: 0.9978 - val_loss: 0.0573 - val_acc: 0.9952\n",
      "Epoch 3/5\n",
      "41580/41580 [==============================] - 49s 1ms/step - loss: 0.0063 - acc: 0.9982 - val_loss: 0.0416 - val_acc: 0.9952\n",
      "Epoch 4/5\n",
      "41580/41580 [==============================] - 49s 1ms/step - loss: 0.0054 - acc: 0.9985 - val_loss: 0.0332 - val_acc: 0.9952\n",
      "Epoch 5/5\n",
      "41580/41580 [==============================] - 48s 1ms/step - loss: 0.0044 - acc: 0.9986 - val_loss: 0.0628 - val_acc: 0.9929\n"
     ]
    },
    {
     "data": {
      "text/plain": [
       "<keras.callbacks.History at 0x14250e71cc0>"
      ]
     },
     "execution_count": 161,
     "metadata": {},
     "output_type": "execute_result"
    }
   ],
   "source": [
    "model.fit(X_train, Y_train, \n",
    "          callbacks=[ModelCheckpoint(\"model.hdf5\", monitor=\"val_acc\",\n",
    "                                     save_best_only=True, save_weights_only=False, mode=\"auto\")],\n",
    "          validation_split=0.01, epochs=5, batch_size=64)"
   ]
  },
  {
   "cell_type": "markdown",
   "metadata": {},
   "source": [
    "## Сохраним модель в файл"
   ]
  },
  {
   "cell_type": "code",
   "execution_count": 178,
   "metadata": {},
   "outputs": [],
   "source": [
    "from keras.models import load_model\n",
    "\n",
    "# model.save('digits_recognition_model.h5')  # creates a HDF5 file 'my_model.h5'\n",
    "# del model  # deletes the existing model\n",
    "\n",
    "# returns a compiled model\n",
    "# identical to the previous one\n",
    "# model = load_model('my_model.h5')"
   ]
  },
  {
   "cell_type": "markdown",
   "metadata": {},
   "source": [
    "## Запись ответов в файл"
   ]
  },
  {
   "cell_type": "code",
   "execution_count": 162,
   "metadata": {},
   "outputs": [],
   "source": [
    "predictions = model.predict(X_test)"
   ]
  },
  {
   "cell_type": "code",
   "execution_count": 163,
   "metadata": {},
   "outputs": [],
   "source": [
    "predictions = np.argmax(predictions, axis=1)"
   ]
  },
  {
   "cell_type": "code",
   "execution_count": 164,
   "metadata": {},
   "outputs": [
    {
     "data": {
      "text/html": [
       "<div>\n",
       "<style scoped>\n",
       "    .dataframe tbody tr th:only-of-type {\n",
       "        vertical-align: middle;\n",
       "    }\n",
       "\n",
       "    .dataframe tbody tr th {\n",
       "        vertical-align: top;\n",
       "    }\n",
       "\n",
       "    .dataframe thead th {\n",
       "        text-align: right;\n",
       "    }\n",
       "</style>\n",
       "<table border=\"1\" class=\"dataframe\">\n",
       "  <thead>\n",
       "    <tr style=\"text-align: right;\">\n",
       "      <th></th>\n",
       "      <th>ImageId</th>\n",
       "      <th>Label</th>\n",
       "    </tr>\n",
       "  </thead>\n",
       "  <tbody>\n",
       "    <tr>\n",
       "      <th>0</th>\n",
       "      <td>1</td>\n",
       "      <td>2</td>\n",
       "    </tr>\n",
       "    <tr>\n",
       "      <th>1</th>\n",
       "      <td>2</td>\n",
       "      <td>0</td>\n",
       "    </tr>\n",
       "    <tr>\n",
       "      <th>2</th>\n",
       "      <td>3</td>\n",
       "      <td>9</td>\n",
       "    </tr>\n",
       "    <tr>\n",
       "      <th>3</th>\n",
       "      <td>4</td>\n",
       "      <td>0</td>\n",
       "    </tr>\n",
       "    <tr>\n",
       "      <th>4</th>\n",
       "      <td>5</td>\n",
       "      <td>3</td>\n",
       "    </tr>\n",
       "  </tbody>\n",
       "</table>\n",
       "</div>"
      ],
      "text/plain": [
       "   ImageId  Label\n",
       "0        1      2\n",
       "1        2      0\n",
       "2        3      9\n",
       "3        4      0\n",
       "4        5      3"
      ]
     },
     "execution_count": 164,
     "metadata": {},
     "output_type": "execute_result"
    }
   ],
   "source": [
    "ans_df = pd.DataFrame({'ImageId': range(1, 28001), 'Label': predictions})\n",
    "ans_df.head()"
   ]
  },
  {
   "cell_type": "code",
   "execution_count": 165,
   "metadata": {},
   "outputs": [],
   "source": [
    "ans_df.to_csv('ans_digit_recon2.csv', index=False)"
   ]
  },
  {
   "cell_type": "code",
   "execution_count": 167,
   "metadata": {},
   "outputs": [
    {
     "data": {
      "text/html": [
       "<div>\n",
       "<style scoped>\n",
       "    .dataframe tbody tr th:only-of-type {\n",
       "        vertical-align: middle;\n",
       "    }\n",
       "\n",
       "    .dataframe tbody tr th {\n",
       "        vertical-align: top;\n",
       "    }\n",
       "\n",
       "    .dataframe thead th {\n",
       "        text-align: right;\n",
       "    }\n",
       "</style>\n",
       "<table border=\"1\" class=\"dataframe\">\n",
       "  <thead>\n",
       "    <tr style=\"text-align: right;\">\n",
       "      <th></th>\n",
       "      <th>ImageId</th>\n",
       "      <th>Label</th>\n",
       "    </tr>\n",
       "  </thead>\n",
       "  <tbody>\n",
       "    <tr>\n",
       "      <th>0</th>\n",
       "      <td>1</td>\n",
       "      <td>2</td>\n",
       "    </tr>\n",
       "    <tr>\n",
       "      <th>1</th>\n",
       "      <td>2</td>\n",
       "      <td>0</td>\n",
       "    </tr>\n",
       "    <tr>\n",
       "      <th>2</th>\n",
       "      <td>3</td>\n",
       "      <td>9</td>\n",
       "    </tr>\n",
       "    <tr>\n",
       "      <th>3</th>\n",
       "      <td>4</td>\n",
       "      <td>0</td>\n",
       "    </tr>\n",
       "    <tr>\n",
       "      <th>4</th>\n",
       "      <td>5</td>\n",
       "      <td>3</td>\n",
       "    </tr>\n",
       "  </tbody>\n",
       "</table>\n",
       "</div>"
      ],
      "text/plain": [
       "   ImageId  Label\n",
       "0        1      2\n",
       "1        2      0\n",
       "2        3      9\n",
       "3        4      0\n",
       "4        5      3"
      ]
     },
     "execution_count": 167,
     "metadata": {},
     "output_type": "execute_result"
    }
   ],
   "source": [
    "pd.read_csv('ans_digit_recon2.csv').head()"
   ]
  },
  {
   "cell_type": "code",
   "execution_count": 175,
   "metadata": {},
   "outputs": [
    {
     "ename": "NameError",
     "evalue": "name 'itertools' is not defined",
     "output_type": "error",
     "traceback": [
      "\u001b[1;31m---------------------------------------------------------------------------\u001b[0m",
      "\u001b[1;31mNameError\u001b[0m                                 Traceback (most recent call last)",
      "\u001b[1;32m<ipython-input-175-08f05762e0a3>\u001b[0m in \u001b[0;36m<module>\u001b[1;34m\u001b[0m\n\u001b[0;32m     40\u001b[0m \u001b[0mconfusion_mtx\u001b[0m\u001b[1;33m\u001b[0m\u001b[1;33m\u001b[0m\u001b[0m\n\u001b[0;32m     41\u001b[0m \u001b[1;31m# plot the confusion matrix\u001b[0m\u001b[1;33m\u001b[0m\u001b[1;33m\u001b[0m\u001b[1;33m\u001b[0m\u001b[0m\n\u001b[1;32m---> 42\u001b[1;33m \u001b[0mplot_confusion_matrix\u001b[0m\u001b[1;33m(\u001b[0m\u001b[0mconfusion_mtx\u001b[0m\u001b[1;33m,\u001b[0m \u001b[0mclasses\u001b[0m \u001b[1;33m=\u001b[0m \u001b[0mrange\u001b[0m\u001b[1;33m(\u001b[0m\u001b[1;36m10\u001b[0m\u001b[1;33m)\u001b[0m\u001b[1;33m)\u001b[0m\u001b[1;33m\u001b[0m\u001b[1;33m\u001b[0m\u001b[0m\n\u001b[0m",
      "\u001b[1;32m<ipython-input-175-08f05762e0a3>\u001b[0m in \u001b[0;36mplot_confusion_matrix\u001b[1;34m(cm, classes, normalize, title, cmap)\u001b[0m\n\u001b[0;32m     21\u001b[0m \u001b[1;33m\u001b[0m\u001b[0m\n\u001b[0;32m     22\u001b[0m     \u001b[0mthresh\u001b[0m \u001b[1;33m=\u001b[0m \u001b[0mcm\u001b[0m\u001b[1;33m.\u001b[0m\u001b[0mmax\u001b[0m\u001b[1;33m(\u001b[0m\u001b[1;33m)\u001b[0m \u001b[1;33m/\u001b[0m \u001b[1;36m2.\u001b[0m\u001b[1;33m\u001b[0m\u001b[1;33m\u001b[0m\u001b[0m\n\u001b[1;32m---> 23\u001b[1;33m     \u001b[1;32mfor\u001b[0m \u001b[0mi\u001b[0m\u001b[1;33m,\u001b[0m \u001b[0mj\u001b[0m \u001b[1;32min\u001b[0m \u001b[0mitertools\u001b[0m\u001b[1;33m.\u001b[0m\u001b[0mproduct\u001b[0m\u001b[1;33m(\u001b[0m\u001b[0mrange\u001b[0m\u001b[1;33m(\u001b[0m\u001b[0mcm\u001b[0m\u001b[1;33m.\u001b[0m\u001b[0mshape\u001b[0m\u001b[1;33m[\u001b[0m\u001b[1;36m0\u001b[0m\u001b[1;33m]\u001b[0m\u001b[1;33m)\u001b[0m\u001b[1;33m,\u001b[0m \u001b[0mrange\u001b[0m\u001b[1;33m(\u001b[0m\u001b[0mcm\u001b[0m\u001b[1;33m.\u001b[0m\u001b[0mshape\u001b[0m\u001b[1;33m[\u001b[0m\u001b[1;36m1\u001b[0m\u001b[1;33m]\u001b[0m\u001b[1;33m)\u001b[0m\u001b[1;33m)\u001b[0m\u001b[1;33m:\u001b[0m\u001b[1;33m\u001b[0m\u001b[1;33m\u001b[0m\u001b[0m\n\u001b[0m\u001b[0;32m     24\u001b[0m         plt.text(j, i, cm[i, j],\n\u001b[0;32m     25\u001b[0m                  \u001b[0mhorizontalalignment\u001b[0m\u001b[1;33m=\u001b[0m\u001b[1;34m\"center\"\u001b[0m\u001b[1;33m,\u001b[0m\u001b[1;33m\u001b[0m\u001b[1;33m\u001b[0m\u001b[0m\n",
      "\u001b[1;31mNameError\u001b[0m: name 'itertools' is not defined"
     ]
    },
    {
     "data": {
      "image/png": "[encoded data removed]",
      "text/plain": [
       "<Figure size 432x288 with 2 Axes>"
      ]
     },
     "metadata": {
      "needs_background": "light"
     },
     "output_type": "display_data"
    }
   ],
   "source": [
    "# Look at confusion matrix \n",
    "from sklearn.metrics import confusion_matrix\n",
    "\n",
    "def plot_confusion_matrix(cm, classes,\n",
    "                          normalize=False,\n",
    "                          title='Confusion matrix',\n",
    "                          cmap=plt.cm.Blues):\n",
    "    \"\"\"\n",
    "    This function prints and plots the confusion matrix.\n",
    "    Normalization can be applied by setting `normalize=True`.\n",
    "    \"\"\"\n",
    "    plt.imshow(cm, interpolation='nearest', cmap=cmap)\n",
    "    plt.title(title)\n",
    "    plt.colorbar()\n",
    "    tick_marks = np.arange(len(classes))\n",
    "    plt.xticks(tick_marks, classes, rotation=45)\n",
    "    plt.yticks(tick_marks, classes)\n",
    "\n",
    "    if normalize:\n",
    "        cm = cm.astype('float') / cm.sum(axis=1)[:, np.newaxis]\n",
    "\n",
    "    thresh = cm.max() / 2.\n",
    "    for i, j in itertools.product(range(cm.shape[0]), range(cm.shape[1])):\n",
    "        plt.text(j, i, cm[i, j],\n",
    "                 horizontalalignment=\"center\",\n",
    "                 color=\"white\" if cm[i, j] > thresh else \"black\")\n",
    "\n",
    "    plt.tight_layout()\n",
    "    plt.ylabel('True label')\n",
    "    plt.xlabel('Predicted label')\n",
    "\n",
    "# Predict the values from the validation dataset\n",
    "Y_pred = model.predict(X_train)\n",
    "# Convert predictions classes to one hot vectors \n",
    "Y_pred_classes = np.argmax(Y_pred,axis = 1) \n",
    "# Convert validation observations to one hot vectors\n",
    "Y_true = np.argmax(Y_train, axis = 1) \n",
    "# compute the confusion matrix\n",
    "confusion_mtx = confusion_matrix(Y_true, Y_pred_classes) \n",
    "confusion_mtx\n",
    "# plot the confusion matrix\n",
    "#plot_confusion_matrix(confusion_mtx, classes = range(10)) "
   ]
  },
  {
   "cell_type": "code",
   "execution_count": null,
   "metadata": {},
   "outputs": [],
   "source": [
    "Y_pred = model.predict(X_test)"
   ]
  },
  {
   "cell_type": "markdown",
   "metadata": {},
   "source": [
    "Найдем сколько цифр было распознано ошибочно."
   ]
  },
  {
   "cell_type": "code",
   "execution_count": 176,
   "metadata": {},
   "outputs": [
    {
     "data": {
      "text/plain": [
       "41941.200000000004"
      ]
     },
     "execution_count": 176,
     "metadata": {},
     "output_type": "execute_result"
    }
   ],
   "source": [
    "0.9986*X_train.shape[0]"
   ]
  },
  {
   "cell_type": "code",
   "execution_count": 177,
   "metadata": {},
   "outputs": [
    {
     "data": {
      "text/plain": [
       "58.799999999995634"
      ]
     },
     "execution_count": 177,
     "metadata": {},
     "output_type": "execute_result"
    }
   ],
   "source": [
    "X_train.shape[0] - 0.9986*X_train.shape[0]"
   ]
  }
 ],
 "metadata": {
  "kernelspec": {
   "display_name": "TensorFlow-GPU",
   "language": "python",
   "name": "tf-gpu"
  },
  "language_info": {
   "codemirror_mode": {
    "name": "ipython",
    "version": 3
   },
   "file_extension": ".py",
   "mimetype": "text/x-python",
   "name": "python",
   "nbconvert_exporter": "python",
   "pygments_lexer": "ipython3",
   "version": "3.6.8"
  }
 },
 "nbformat": 4,
 "nbformat_minor": 2
}
